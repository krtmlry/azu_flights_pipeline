{
 "cells": [
  {
   "cell_type": "markdown",
   "metadata": {},
   "source": [
    "This contains code for creating the ff dimension tables:\n",
    "1. dim_flight_situation\n",
    "2. dim_line_types\n",
    "3. dim_flight_status\n",
    "\n",
    "The other two dimension tables; dim_aircrafts and dim_airports will be created separately"
   ]
  },
  {
   "cell_type": "code",
   "execution_count": 18,
   "metadata": {},
   "outputs": [],
   "source": [
    "import pandas as pd\n",
    "import os"
   ]
  },
  {
   "cell_type": "code",
   "execution_count": 2,
   "metadata": {},
   "outputs": [],
   "source": [
    "flight_status = {\n",
    "    \"status_id\":[0,1],\n",
    "    \"description\":['Cancelled','Accomplished']\n",
    "}"
   ]
  },
  {
   "cell_type": "code",
   "execution_count": 3,
   "metadata": {},
   "outputs": [],
   "source": [
    "df_flight_status = pd.DataFrame(flight_status)"
   ]
  },
  {
   "cell_type": "code",
   "execution_count": 6,
   "metadata": {},
   "outputs": [],
   "source": [
    "line_type_codes = {\n",
    "    \"line_type_code\":['C','E','G','H','I','L','N','R'],\n",
    "    \"description\":[\n",
    "        'Domestic Freighter',\n",
    "        'Special',\n",
    "        'International Freighter',\n",
    "        'Sub-regional',\n",
    "        'International',\n",
    "        'Postal Network',\n",
    "        'National',\n",
    "        'Regional']\n",
    "}"
   ]
  },
  {
   "cell_type": "code",
   "execution_count": 7,
   "metadata": {},
   "outputs": [],
   "source": [
    "df_line_type_codes = pd.DataFrame(line_type_codes)"
   ]
  },
  {
   "cell_type": "code",
   "execution_count": 9,
   "metadata": {},
   "outputs": [
    {
     "data": {
      "application/vnd.microsoft.datawrangler.viewer.v0+json": {
       "columns": [
        {
         "name": "index",
         "rawType": "int64",
         "type": "integer"
        },
        {
         "name": "line_type_code",
         "rawType": "object",
         "type": "string"
        },
        {
         "name": "description",
         "rawType": "object",
         "type": "string"
        }
       ],
       "conversionMethod": "pd.DataFrame",
       "ref": "e88e9417-1791-4378-a523-8f16d80052bf",
       "rows": [
        [
         "0",
         "C",
         "Domestic Freighter"
        ],
        [
         "1",
         "E",
         "Special"
        ],
        [
         "2",
         "G",
         "International Freighter"
        ],
        [
         "3",
         "H",
         "Sub-regional"
        ],
        [
         "4",
         "I",
         "International"
        ],
        [
         "5",
         "L",
         "Postal Network"
        ],
        [
         "6",
         "N",
         "National"
        ],
        [
         "7",
         "R",
         "Regional"
        ]
       ],
       "shape": {
        "columns": 2,
        "rows": 8
       }
      },
      "text/html": [
       "<div>\n",
       "<style scoped>\n",
       "    .dataframe tbody tr th:only-of-type {\n",
       "        vertical-align: middle;\n",
       "    }\n",
       "\n",
       "    .dataframe tbody tr th {\n",
       "        vertical-align: top;\n",
       "    }\n",
       "\n",
       "    .dataframe thead th {\n",
       "        text-align: right;\n",
       "    }\n",
       "</style>\n",
       "<table border=\"1\" class=\"dataframe\">\n",
       "  <thead>\n",
       "    <tr style=\"text-align: right;\">\n",
       "      <th></th>\n",
       "      <th>line_type_code</th>\n",
       "      <th>description</th>\n",
       "    </tr>\n",
       "  </thead>\n",
       "  <tbody>\n",
       "    <tr>\n",
       "      <th>0</th>\n",
       "      <td>C</td>\n",
       "      <td>Domestic Freighter</td>\n",
       "    </tr>\n",
       "    <tr>\n",
       "      <th>1</th>\n",
       "      <td>E</td>\n",
       "      <td>Special</td>\n",
       "    </tr>\n",
       "    <tr>\n",
       "      <th>2</th>\n",
       "      <td>G</td>\n",
       "      <td>International Freighter</td>\n",
       "    </tr>\n",
       "    <tr>\n",
       "      <th>3</th>\n",
       "      <td>H</td>\n",
       "      <td>Sub-regional</td>\n",
       "    </tr>\n",
       "    <tr>\n",
       "      <th>4</th>\n",
       "      <td>I</td>\n",
       "      <td>International</td>\n",
       "    </tr>\n",
       "    <tr>\n",
       "      <th>5</th>\n",
       "      <td>L</td>\n",
       "      <td>Postal Network</td>\n",
       "    </tr>\n",
       "    <tr>\n",
       "      <th>6</th>\n",
       "      <td>N</td>\n",
       "      <td>National</td>\n",
       "    </tr>\n",
       "    <tr>\n",
       "      <th>7</th>\n",
       "      <td>R</td>\n",
       "      <td>Regional</td>\n",
       "    </tr>\n",
       "  </tbody>\n",
       "</table>\n",
       "</div>"
      ],
      "text/plain": [
       "  line_type_code              description\n",
       "0              C       Domestic Freighter\n",
       "1              E                  Special\n",
       "2              G  International Freighter\n",
       "3              H             Sub-regional\n",
       "4              I            International\n",
       "5              L           Postal Network\n",
       "6              N                 National\n",
       "7              R                 Regional"
      ]
     },
     "execution_count": 9,
     "metadata": {},
     "output_type": "execute_result"
    }
   ],
   "source": [
    "df_line_type_codes"
   ]
  },
  {
   "cell_type": "code",
   "execution_count": 16,
   "metadata": {},
   "outputs": [],
   "source": [
    "flight_situation = {\n",
    "    \"situation_id\":['A','P','D1','D2','D3','D4'],\n",
    "    \"situation_short_desc\":[\n",
    "        'Advanced',\n",
    "        'Punctual',\n",
    "        'Delay 30-60',\n",
    "        'Delay 60-120',\n",
    "        'Delay 120-240',\n",
    "        'Delay > 240'\n",
    "    ],\n",
    "    \"situation_desc\":[\n",
    "        'When actual departure or arrival is ahead of schedule',\n",
    "        'When actual departure or arrival is exactly on schedule or within +30 minutes from schedule',\n",
    "        'When delay is between 31 to 60 minutes',\n",
    "        'When delay is between 61 to 120 minutes',\n",
    "        'When delay is between 121 to 240 minutes',\n",
    "        'When delay is more than 240 minutes'\n",
    "    ]   \n",
    "}"
   ]
  },
  {
   "cell_type": "code",
   "execution_count": 17,
   "metadata": {},
   "outputs": [],
   "source": [
    "df_flight_situation = pd.DataFrame(flight_situation)"
   ]
  },
  {
   "cell_type": "code",
   "execution_count": 15,
   "metadata": {},
   "outputs": [
    {
     "data": {
      "application/vnd.microsoft.datawrangler.viewer.v0+json": {
       "columns": [
        {
         "name": "index",
         "rawType": "int64",
         "type": "integer"
        },
        {
         "name": "situation_id",
         "rawType": "object",
         "type": "string"
        },
        {
         "name": "situation_short_desc",
         "rawType": "object",
         "type": "string"
        },
        {
         "name": "situation_desc",
         "rawType": "object",
         "type": "string"
        }
       ],
       "conversionMethod": "pd.DataFrame",
       "ref": "5a13fbdd-d7c0-4969-816c-5e8614e2ec14",
       "rows": [
        [
         "0",
         "A",
         "Advanced",
         "When actual departure or arrival is ahead of schedule"
        ],
        [
         "1",
         "P",
         "Punctual",
         "When actual departure or arrival is exactly on schedule or within +30 minutes from schedule"
        ],
        [
         "2",
         "D1",
         "Delay 30-60",
         "When delay is between 31 to 60 minutes"
        ],
        [
         "3",
         "D2",
         "Delay 60-120",
         "When delay is between 61 to 120 minutes"
        ],
        [
         "4",
         "D3",
         "Delay 120-240",
         "When delay is between 121 to 240 minutes"
        ],
        [
         "5",
         "D4",
         "Delay > 240",
         "When delay is more than 240 minutes"
        ]
       ],
       "shape": {
        "columns": 3,
        "rows": 6
       }
      },
      "text/html": [
       "<div>\n",
       "<style scoped>\n",
       "    .dataframe tbody tr th:only-of-type {\n",
       "        vertical-align: middle;\n",
       "    }\n",
       "\n",
       "    .dataframe tbody tr th {\n",
       "        vertical-align: top;\n",
       "    }\n",
       "\n",
       "    .dataframe thead th {\n",
       "        text-align: right;\n",
       "    }\n",
       "</style>\n",
       "<table border=\"1\" class=\"dataframe\">\n",
       "  <thead>\n",
       "    <tr style=\"text-align: right;\">\n",
       "      <th></th>\n",
       "      <th>situation_id</th>\n",
       "      <th>situation_short_desc</th>\n",
       "      <th>situation_desc</th>\n",
       "    </tr>\n",
       "  </thead>\n",
       "  <tbody>\n",
       "    <tr>\n",
       "      <th>0</th>\n",
       "      <td>A</td>\n",
       "      <td>Advanced</td>\n",
       "      <td>When actual departure or arrival is ahead of s...</td>\n",
       "    </tr>\n",
       "    <tr>\n",
       "      <th>1</th>\n",
       "      <td>P</td>\n",
       "      <td>Punctual</td>\n",
       "      <td>When actual departure or arrival is exactly on...</td>\n",
       "    </tr>\n",
       "    <tr>\n",
       "      <th>2</th>\n",
       "      <td>D1</td>\n",
       "      <td>Delay 30-60</td>\n",
       "      <td>When delay is between 31 to 60 minutes</td>\n",
       "    </tr>\n",
       "    <tr>\n",
       "      <th>3</th>\n",
       "      <td>D2</td>\n",
       "      <td>Delay 60-120</td>\n",
       "      <td>When delay is between 61 to 120 minutes</td>\n",
       "    </tr>\n",
       "    <tr>\n",
       "      <th>4</th>\n",
       "      <td>D3</td>\n",
       "      <td>Delay 120-240</td>\n",
       "      <td>When delay is between 121 to 240 minutes</td>\n",
       "    </tr>\n",
       "    <tr>\n",
       "      <th>5</th>\n",
       "      <td>D4</td>\n",
       "      <td>Delay &gt; 240</td>\n",
       "      <td>When delay is more than 240 minutes</td>\n",
       "    </tr>\n",
       "  </tbody>\n",
       "</table>\n",
       "</div>"
      ],
      "text/plain": [
       "  situation_id situation_short_desc  \\\n",
       "0            A             Advanced   \n",
       "1            P             Punctual   \n",
       "2           D1          Delay 30-60   \n",
       "3           D2         Delay 60-120   \n",
       "4           D3        Delay 120-240   \n",
       "5           D4          Delay > 240   \n",
       "\n",
       "                                      situation_desc  \n",
       "0  When actual departure or arrival is ahead of s...  \n",
       "1  When actual departure or arrival is exactly on...  \n",
       "2             When delay is between 31 to 60 minutes  \n",
       "3            When delay is between 61 to 120 minutes  \n",
       "4           When delay is between 121 to 240 minutes  \n",
       "5                When delay is more than 240 minutes  "
      ]
     },
     "execution_count": 15,
     "metadata": {},
     "output_type": "execute_result"
    }
   ],
   "source": [
    "df_flight_situation"
   ]
  },
  {
   "cell_type": "code",
   "execution_count": 20,
   "metadata": {},
   "outputs": [],
   "source": [
    "df_flight_situation.to_csv(r\"C:\\Users\\USER\\Desktop\\anac_reg_flights\\data_dictionary\\flight_situation_codes.csv\",index=False)"
   ]
  },
  {
   "cell_type": "code",
   "execution_count": 21,
   "metadata": {},
   "outputs": [],
   "source": [
    "df_line_type_codes.to_csv(r\"C:\\Users\\USER\\Desktop\\anac_reg_flights\\data_dictionary\\line_type_codes.csv\",index=False)"
   ]
  },
  {
   "cell_type": "code",
   "execution_count": 22,
   "metadata": {},
   "outputs": [],
   "source": [
    "df_flight_status.to_csv(r\"C:\\Users\\USER\\Desktop\\anac_reg_flights\\data_dictionary\\flight_status.csv\",index=False)"
   ]
  }
 ],
 "metadata": {
  "kernelspec": {
   "display_name": "anac_reg_flights",
   "language": "python",
   "name": "python3"
  },
  "language_info": {
   "codemirror_mode": {
    "name": "ipython",
    "version": 3
   },
   "file_extension": ".py",
   "mimetype": "text/x-python",
   "name": "python",
   "nbconvert_exporter": "python",
   "pygments_lexer": "ipython3",
   "version": "3.12.7"
  }
 },
 "nbformat": 4,
 "nbformat_minor": 2
}
