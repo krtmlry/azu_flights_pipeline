{
 "cells": [
  {
   "cell_type": "code",
   "execution_count": 1,
   "metadata": {},
   "outputs": [],
   "source": [
    "import pandas as pd\n",
    "import duckdb as db"
   ]
  },
  {
   "cell_type": "code",
   "execution_count": 3,
   "metadata": {},
   "outputs": [],
   "source": [
    "vra_azu_airports = pd.read_csv(r\"C:\\Users\\USER\\Desktop\\anac_reg_flights\\data_dictionary\\vra_azu_airports.csv\")\n",
    "countries_csv = pd.read_csv(r\"C:\\Users\\USER\\Desktop\\anac_reg_flights\\misc_data\\sources\\countries.csv\")\n",
    "airports = pd.read_csv(r\"C:\\Users\\USER\\Desktop\\anac_reg_flights\\misc_data\\sources\\airports.csv\")"
   ]
  },
  {
   "cell_type": "code",
   "execution_count": 4,
   "metadata": {},
   "outputs": [],
   "source": [
    "vra_azu_airports = db.sql(\n",
    "    \"\"\"\n",
    "    select\n",
    "        a.airport_icao,\n",
    "        coalesce(trim(b.code),'NO IATA')  as airport_iata,\n",
    "        b.name as airport_name,\n",
    "        b.latitude,\n",
    "        b.longitude,\n",
    "        b.country as country_iso,\n",
    "        c.name as country\n",
    "    from vra_azu_airports as a\n",
    "    left join airports as b on a.airport_icao = b.icao\n",
    "    left join countries_csv as c on b.country = c.code\n",
    "    order by airport_icao asc\n",
    "    \"\"\"\n",
    ").df()"
   ]
  },
  {
   "cell_type": "code",
   "execution_count": 5,
   "metadata": {},
   "outputs": [
    {
     "data": {
      "application/vnd.microsoft.datawrangler.viewer.v0+json": {
       "columns": [
        {
         "name": "index",
         "rawType": "int64",
         "type": "integer"
        },
        {
         "name": "airport_icao",
         "rawType": "object",
         "type": "string"
        },
        {
         "name": "airport_iata",
         "rawType": "object",
         "type": "string"
        },
        {
         "name": "airport_name",
         "rawType": "object",
         "type": "string"
        },
        {
         "name": "latitude",
         "rawType": "float64",
         "type": "float"
        },
        {
         "name": "longitude",
         "rawType": "float64",
         "type": "float"
        },
        {
         "name": "country_iso",
         "rawType": "object",
         "type": "string"
        },
        {
         "name": "country",
         "rawType": "object",
         "type": "string"
        }
       ],
       "conversionMethod": "pd.DataFrame",
       "ref": "cc2a1c8f-d1ca-4d46-b3b3-32eb4401ac13",
       "rows": [
        [
         "0",
         "EBBR",
         "BRU",
         "Brussels Airport",
         "50.9010343",
         "4.478626970832147",
         "BE",
         "Belgium"
        ],
        [
         "1",
         "EHAM",
         "AMS",
         "Amsterdam Airport Schiphol",
         "52.32697895",
         "4.741505200022974",
         "NL",
         "Netherlands"
        ],
        [
         "2",
         "KFLL",
         "FLL",
         "Fort Lauderdale-Hollywood International Airport",
         "26.072017",
         "-80.15099673135214",
         "US",
         "United States"
        ],
        [
         "3",
         "KMCO",
         "MCO",
         "Orlando International Airport",
         "28.412903550000003",
         "-81.30944309752753",
         "US",
         "United States"
        ],
        [
         "4",
         "KORD",
         "ORD",
         "O'Hare International Airport",
         "41.97795725",
         "-87.90917584851792",
         "US",
         "United States"
        ]
       ],
       "shape": {
        "columns": 7,
        "rows": 5
       }
      },
      "text/html": [
       "<div>\n",
       "<style scoped>\n",
       "    .dataframe tbody tr th:only-of-type {\n",
       "        vertical-align: middle;\n",
       "    }\n",
       "\n",
       "    .dataframe tbody tr th {\n",
       "        vertical-align: top;\n",
       "    }\n",
       "\n",
       "    .dataframe thead th {\n",
       "        text-align: right;\n",
       "    }\n",
       "</style>\n",
       "<table border=\"1\" class=\"dataframe\">\n",
       "  <thead>\n",
       "    <tr style=\"text-align: right;\">\n",
       "      <th></th>\n",
       "      <th>airport_icao</th>\n",
       "      <th>airport_iata</th>\n",
       "      <th>airport_name</th>\n",
       "      <th>latitude</th>\n",
       "      <th>longitude</th>\n",
       "      <th>country_iso</th>\n",
       "      <th>country</th>\n",
       "    </tr>\n",
       "  </thead>\n",
       "  <tbody>\n",
       "    <tr>\n",
       "      <th>0</th>\n",
       "      <td>EBBR</td>\n",
       "      <td>BRU</td>\n",
       "      <td>Brussels Airport</td>\n",
       "      <td>50.901034</td>\n",
       "      <td>4.478627</td>\n",
       "      <td>BE</td>\n",
       "      <td>Belgium</td>\n",
       "    </tr>\n",
       "    <tr>\n",
       "      <th>1</th>\n",
       "      <td>EHAM</td>\n",
       "      <td>AMS</td>\n",
       "      <td>Amsterdam Airport Schiphol</td>\n",
       "      <td>52.326979</td>\n",
       "      <td>4.741505</td>\n",
       "      <td>NL</td>\n",
       "      <td>Netherlands</td>\n",
       "    </tr>\n",
       "    <tr>\n",
       "      <th>2</th>\n",
       "      <td>KFLL</td>\n",
       "      <td>FLL</td>\n",
       "      <td>Fort Lauderdale-Hollywood International Airport</td>\n",
       "      <td>26.072017</td>\n",
       "      <td>-80.150997</td>\n",
       "      <td>US</td>\n",
       "      <td>United States</td>\n",
       "    </tr>\n",
       "    <tr>\n",
       "      <th>3</th>\n",
       "      <td>KMCO</td>\n",
       "      <td>MCO</td>\n",
       "      <td>Orlando International Airport</td>\n",
       "      <td>28.412904</td>\n",
       "      <td>-81.309443</td>\n",
       "      <td>US</td>\n",
       "      <td>United States</td>\n",
       "    </tr>\n",
       "    <tr>\n",
       "      <th>4</th>\n",
       "      <td>KORD</td>\n",
       "      <td>ORD</td>\n",
       "      <td>O'Hare International Airport</td>\n",
       "      <td>41.977957</td>\n",
       "      <td>-87.909176</td>\n",
       "      <td>US</td>\n",
       "      <td>United States</td>\n",
       "    </tr>\n",
       "  </tbody>\n",
       "</table>\n",
       "</div>"
      ],
      "text/plain": [
       "  airport_icao airport_iata                                     airport_name  \\\n",
       "0         EBBR          BRU                                 Brussels Airport   \n",
       "1         EHAM          AMS                       Amsterdam Airport Schiphol   \n",
       "2         KFLL          FLL  Fort Lauderdale-Hollywood International Airport   \n",
       "3         KMCO          MCO                    Orlando International Airport   \n",
       "4         KORD          ORD                     O'Hare International Airport   \n",
       "\n",
       "    latitude  longitude country_iso        country  \n",
       "0  50.901034   4.478627          BE        Belgium  \n",
       "1  52.326979   4.741505          NL    Netherlands  \n",
       "2  26.072017 -80.150997          US  United States  \n",
       "3  28.412904 -81.309443          US  United States  \n",
       "4  41.977957 -87.909176          US  United States  "
      ]
     },
     "execution_count": 5,
     "metadata": {},
     "output_type": "execute_result"
    }
   ],
   "source": [
    "vra_azu_airports.head()"
   ]
  },
  {
   "cell_type": "markdown",
   "metadata": {},
   "source": [
    "Get records where airport_iata is missing.\n",
    "\n",
    "The following missing information will be manually searched through the internet because one site or source can't provide all information for the missing information."
   ]
  },
  {
   "cell_type": "code",
   "execution_count": 6,
   "metadata": {},
   "outputs": [],
   "source": [
    "na_vra_azu_airports = db.sql(\n",
    "    \"\"\"\n",
    "    select *\n",
    "    from vra_azu_airports\n",
    "    where airport_iata = 'NO IATA'\n",
    "    \"\"\"\n",
    ").df()"
   ]
  },
  {
   "cell_type": "code",
   "execution_count": 7,
   "metadata": {},
   "outputs": [
    {
     "data": {
      "application/vnd.microsoft.datawrangler.viewer.v0+json": {
       "columns": [
        {
         "name": "index",
         "rawType": "int64",
         "type": "integer"
        },
        {
         "name": "airport_icao",
         "rawType": "object",
         "type": "string"
        },
        {
         "name": "airport_iata",
         "rawType": "object",
         "type": "string"
        },
        {
         "name": "airport_name",
         "rawType": "object",
         "type": "unknown"
        },
        {
         "name": "latitude",
         "rawType": "float64",
         "type": "float"
        },
        {
         "name": "longitude",
         "rawType": "float64",
         "type": "float"
        },
        {
         "name": "country_iso",
         "rawType": "object",
         "type": "unknown"
        },
        {
         "name": "country",
         "rawType": "object",
         "type": "unknown"
        }
       ],
       "conversionMethod": "pd.DataFrame",
       "ref": "eb8b3e97-d463-4366-9e4f-0cc7e6f64d67",
       "rows": [
        [
         "0",
         "KPVG",
         "NO IATA",
         null,
         null,
         null,
         null,
         null
        ],
        [
         "1",
         "SBFE",
         "NO IATA",
         null,
         null,
         null,
         null,
         null
        ],
        [
         "2",
         "SBQV",
         "NO IATA",
         null,
         null,
         null,
         null,
         null
        ],
        [
         "3",
         "SNGV",
         "NO IATA",
         null,
         null,
         null,
         null,
         null
        ],
        [
         "4",
         "SSPB",
         "NO IATA",
         null,
         null,
         null,
         null,
         null
        ],
        [
         "5",
         "SSZW",
         "NO IATA",
         null,
         null,
         null,
         null,
         null
        ],
        [
         "6",
         "SWJI",
         "NO IATA",
         null,
         null,
         null,
         null,
         null
        ],
        [
         "7",
         "SWKN",
         "NO IATA",
         null,
         null,
         null,
         null,
         null
        ],
        [
         "8",
         "SWKQ",
         "NO IATA",
         null,
         null,
         null,
         null,
         null
        ],
        [
         "9",
         "SWSI",
         "NO IATA",
         null,
         null,
         null,
         null,
         null
        ]
       ],
       "shape": {
        "columns": 7,
        "rows": 10
       }
      },
      "text/html": [
       "<div>\n",
       "<style scoped>\n",
       "    .dataframe tbody tr th:only-of-type {\n",
       "        vertical-align: middle;\n",
       "    }\n",
       "\n",
       "    .dataframe tbody tr th {\n",
       "        vertical-align: top;\n",
       "    }\n",
       "\n",
       "    .dataframe thead th {\n",
       "        text-align: right;\n",
       "    }\n",
       "</style>\n",
       "<table border=\"1\" class=\"dataframe\">\n",
       "  <thead>\n",
       "    <tr style=\"text-align: right;\">\n",
       "      <th></th>\n",
       "      <th>airport_icao</th>\n",
       "      <th>airport_iata</th>\n",
       "      <th>airport_name</th>\n",
       "      <th>latitude</th>\n",
       "      <th>longitude</th>\n",
       "      <th>country_iso</th>\n",
       "      <th>country</th>\n",
       "    </tr>\n",
       "  </thead>\n",
       "  <tbody>\n",
       "    <tr>\n",
       "      <th>0</th>\n",
       "      <td>KPVG</td>\n",
       "      <td>NO IATA</td>\n",
       "      <td>None</td>\n",
       "      <td>NaN</td>\n",
       "      <td>NaN</td>\n",
       "      <td>None</td>\n",
       "      <td>None</td>\n",
       "    </tr>\n",
       "    <tr>\n",
       "      <th>1</th>\n",
       "      <td>SBFE</td>\n",
       "      <td>NO IATA</td>\n",
       "      <td>None</td>\n",
       "      <td>NaN</td>\n",
       "      <td>NaN</td>\n",
       "      <td>None</td>\n",
       "      <td>None</td>\n",
       "    </tr>\n",
       "    <tr>\n",
       "      <th>2</th>\n",
       "      <td>SBQV</td>\n",
       "      <td>NO IATA</td>\n",
       "      <td>None</td>\n",
       "      <td>NaN</td>\n",
       "      <td>NaN</td>\n",
       "      <td>None</td>\n",
       "      <td>None</td>\n",
       "    </tr>\n",
       "    <tr>\n",
       "      <th>3</th>\n",
       "      <td>SNGV</td>\n",
       "      <td>NO IATA</td>\n",
       "      <td>None</td>\n",
       "      <td>NaN</td>\n",
       "      <td>NaN</td>\n",
       "      <td>None</td>\n",
       "      <td>None</td>\n",
       "    </tr>\n",
       "    <tr>\n",
       "      <th>4</th>\n",
       "      <td>SSPB</td>\n",
       "      <td>NO IATA</td>\n",
       "      <td>None</td>\n",
       "      <td>NaN</td>\n",
       "      <td>NaN</td>\n",
       "      <td>None</td>\n",
       "      <td>None</td>\n",
       "    </tr>\n",
       "    <tr>\n",
       "      <th>5</th>\n",
       "      <td>SSZW</td>\n",
       "      <td>NO IATA</td>\n",
       "      <td>None</td>\n",
       "      <td>NaN</td>\n",
       "      <td>NaN</td>\n",
       "      <td>None</td>\n",
       "      <td>None</td>\n",
       "    </tr>\n",
       "    <tr>\n",
       "      <th>6</th>\n",
       "      <td>SWJI</td>\n",
       "      <td>NO IATA</td>\n",
       "      <td>None</td>\n",
       "      <td>NaN</td>\n",
       "      <td>NaN</td>\n",
       "      <td>None</td>\n",
       "      <td>None</td>\n",
       "    </tr>\n",
       "    <tr>\n",
       "      <th>7</th>\n",
       "      <td>SWKN</td>\n",
       "      <td>NO IATA</td>\n",
       "      <td>None</td>\n",
       "      <td>NaN</td>\n",
       "      <td>NaN</td>\n",
       "      <td>None</td>\n",
       "      <td>None</td>\n",
       "    </tr>\n",
       "    <tr>\n",
       "      <th>8</th>\n",
       "      <td>SWKQ</td>\n",
       "      <td>NO IATA</td>\n",
       "      <td>None</td>\n",
       "      <td>NaN</td>\n",
       "      <td>NaN</td>\n",
       "      <td>None</td>\n",
       "      <td>None</td>\n",
       "    </tr>\n",
       "    <tr>\n",
       "      <th>9</th>\n",
       "      <td>SWSI</td>\n",
       "      <td>NO IATA</td>\n",
       "      <td>None</td>\n",
       "      <td>NaN</td>\n",
       "      <td>NaN</td>\n",
       "      <td>None</td>\n",
       "      <td>None</td>\n",
       "    </tr>\n",
       "  </tbody>\n",
       "</table>\n",
       "</div>"
      ],
      "text/plain": [
       "  airport_icao airport_iata airport_name  latitude  longitude country_iso  \\\n",
       "0         KPVG      NO IATA         None       NaN        NaN        None   \n",
       "1         SBFE      NO IATA         None       NaN        NaN        None   \n",
       "2         SBQV      NO IATA         None       NaN        NaN        None   \n",
       "3         SNGV      NO IATA         None       NaN        NaN        None   \n",
       "4         SSPB      NO IATA         None       NaN        NaN        None   \n",
       "5         SSZW      NO IATA         None       NaN        NaN        None   \n",
       "6         SWJI      NO IATA         None       NaN        NaN        None   \n",
       "7         SWKN      NO IATA         None       NaN        NaN        None   \n",
       "8         SWKQ      NO IATA         None       NaN        NaN        None   \n",
       "9         SWSI      NO IATA         None       NaN        NaN        None   \n",
       "\n",
       "  country  \n",
       "0    None  \n",
       "1    None  \n",
       "2    None  \n",
       "3    None  \n",
       "4    None  \n",
       "5    None  \n",
       "6    None  \n",
       "7    None  \n",
       "8    None  \n",
       "9    None  "
      ]
     },
     "execution_count": 7,
     "metadata": {},
     "output_type": "execute_result"
    }
   ],
   "source": [
    "na_vra_azu_airports"
   ]
  },
  {
   "cell_type": "code",
   "execution_count": 9,
   "metadata": {},
   "outputs": [],
   "source": [
    "missing_airports = {\n",
    "    'SSZW':['PGZ','Ponta Grossa Airport',25.1947,50.1441,'BR','Brazil'],\n",
    "    'SWKN':['CLV','Caldas Novas Airport',17.725,48.606389,'BR','Brazil'],\n",
    "    'SWJI':['JPR','Ji-Paraná Airport',10.870556,-61.846667,'BR','Brazil'],\n",
    "    'SWKQ':['NO IATA','Serra da Capivara Airport',9.083333,-42.644722,'BR','Brazil'],\n",
    "    'SWSI':['OPS','Presidente João Batista Figueiredo Airport',-11.885,-55.586111,'BR','Brazil'],\n",
    "    'SBQV':['NO IATA','Pedro Otacílio Figueiredo Airport',14.863611, -40.863056,'BR','Brazil'],\n",
    "    'SNGV':['GVR','Aeroporto Coronel Altino Machado',-18.8968, -41.9861,'BR','Brazil'],\n",
    "    'KPVG':['NO IATA','Hampton Roads Executive Airport',36.780278, -76.448889,'US','United States'],\n",
    "    'SBFE':['FEC','Feira de Santana Airport',-12.200556, -38.906389,'BR','Brazil'],\n",
    "    'SSPB':['PTO','Pato Branco Airport',-26.217222, -52.694444,'BR','Brazil']\n",
    "}"
   ]
  },
  {
   "cell_type": "markdown",
   "metadata": {},
   "source": [
    "Missing airports information can be searched here: https://airportcodes.aero/icao\n",
    "\n",
    "Other information not available on this site can be searched through wikipedia"
   ]
  },
  {
   "cell_type": "code",
   "execution_count": 8,
   "metadata": {},
   "outputs": [],
   "source": [
    "airport_icao_list = na_vra_azu_airports['airport_icao'].to_list()"
   ]
  },
  {
   "cell_type": "code",
   "execution_count": 10,
   "metadata": {},
   "outputs": [],
   "source": [
    "for i in airport_icao_list:\n",
    "    na_vra_azu_airports.loc[\n",
    "        na_vra_azu_airports['airport_icao'] == i,\n",
    "        ['airport_iata','airport_name','latitude','longitude','country_iso','country']\n",
    "    ] = [missing_airports[i][0],\n",
    "         missing_airports[i][1],\n",
    "         missing_airports[i][2],\n",
    "         missing_airports[i][3],\n",
    "         missing_airports[i][4],\n",
    "         missing_airports[i][5],\n",
    "         ]"
   ]
  },
  {
   "cell_type": "code",
   "execution_count": 11,
   "metadata": {},
   "outputs": [
    {
     "data": {
      "application/vnd.microsoft.datawrangler.viewer.v0+json": {
       "columns": [
        {
         "name": "index",
         "rawType": "int64",
         "type": "integer"
        },
        {
         "name": "airport_icao",
         "rawType": "object",
         "type": "string"
        },
        {
         "name": "airport_iata",
         "rawType": "object",
         "type": "string"
        },
        {
         "name": "airport_name",
         "rawType": "object",
         "type": "string"
        },
        {
         "name": "latitude",
         "rawType": "float64",
         "type": "float"
        },
        {
         "name": "longitude",
         "rawType": "float64",
         "type": "float"
        },
        {
         "name": "country_iso",
         "rawType": "object",
         "type": "string"
        },
        {
         "name": "country",
         "rawType": "object",
         "type": "string"
        }
       ],
       "conversionMethod": "pd.DataFrame",
       "ref": "549b4fcd-882f-4ebd-b62c-1811eca59e28",
       "rows": [
        [
         "0",
         "KPVG",
         "NO IATA",
         "Hampton Roads Executive Airport",
         "36.780278",
         "-76.448889",
         "US",
         "United States"
        ],
        [
         "1",
         "SBFE",
         "FEC",
         "Feira de Santana Airport",
         "-12.200556",
         "-38.906389",
         "BR",
         "Brazil"
        ],
        [
         "2",
         "SBQV",
         "NO IATA",
         "Pedro Otacílio Figueiredo Airport",
         "14.863611",
         "-40.863056",
         "BR",
         "Brazil"
        ],
        [
         "3",
         "SNGV",
         "GVR",
         "Aeroporto Coronel Altino Machado",
         "-18.8968",
         "-41.9861",
         "BR",
         "Brazil"
        ],
        [
         "4",
         "SSPB",
         "PTO",
         "Pato Branco Airport",
         "-26.217222",
         "-52.694444",
         "BR",
         "Brazil"
        ]
       ],
       "shape": {
        "columns": 7,
        "rows": 5
       }
      },
      "text/html": [
       "<div>\n",
       "<style scoped>\n",
       "    .dataframe tbody tr th:only-of-type {\n",
       "        vertical-align: middle;\n",
       "    }\n",
       "\n",
       "    .dataframe tbody tr th {\n",
       "        vertical-align: top;\n",
       "    }\n",
       "\n",
       "    .dataframe thead th {\n",
       "        text-align: right;\n",
       "    }\n",
       "</style>\n",
       "<table border=\"1\" class=\"dataframe\">\n",
       "  <thead>\n",
       "    <tr style=\"text-align: right;\">\n",
       "      <th></th>\n",
       "      <th>airport_icao</th>\n",
       "      <th>airport_iata</th>\n",
       "      <th>airport_name</th>\n",
       "      <th>latitude</th>\n",
       "      <th>longitude</th>\n",
       "      <th>country_iso</th>\n",
       "      <th>country</th>\n",
       "    </tr>\n",
       "  </thead>\n",
       "  <tbody>\n",
       "    <tr>\n",
       "      <th>0</th>\n",
       "      <td>KPVG</td>\n",
       "      <td>NO IATA</td>\n",
       "      <td>Hampton Roads Executive Airport</td>\n",
       "      <td>36.780278</td>\n",
       "      <td>-76.448889</td>\n",
       "      <td>US</td>\n",
       "      <td>United States</td>\n",
       "    </tr>\n",
       "    <tr>\n",
       "      <th>1</th>\n",
       "      <td>SBFE</td>\n",
       "      <td>FEC</td>\n",
       "      <td>Feira de Santana Airport</td>\n",
       "      <td>-12.200556</td>\n",
       "      <td>-38.906389</td>\n",
       "      <td>BR</td>\n",
       "      <td>Brazil</td>\n",
       "    </tr>\n",
       "    <tr>\n",
       "      <th>2</th>\n",
       "      <td>SBQV</td>\n",
       "      <td>NO IATA</td>\n",
       "      <td>Pedro Otacílio Figueiredo Airport</td>\n",
       "      <td>14.863611</td>\n",
       "      <td>-40.863056</td>\n",
       "      <td>BR</td>\n",
       "      <td>Brazil</td>\n",
       "    </tr>\n",
       "    <tr>\n",
       "      <th>3</th>\n",
       "      <td>SNGV</td>\n",
       "      <td>GVR</td>\n",
       "      <td>Aeroporto Coronel Altino Machado</td>\n",
       "      <td>-18.896800</td>\n",
       "      <td>-41.986100</td>\n",
       "      <td>BR</td>\n",
       "      <td>Brazil</td>\n",
       "    </tr>\n",
       "    <tr>\n",
       "      <th>4</th>\n",
       "      <td>SSPB</td>\n",
       "      <td>PTO</td>\n",
       "      <td>Pato Branco Airport</td>\n",
       "      <td>-26.217222</td>\n",
       "      <td>-52.694444</td>\n",
       "      <td>BR</td>\n",
       "      <td>Brazil</td>\n",
       "    </tr>\n",
       "  </tbody>\n",
       "</table>\n",
       "</div>"
      ],
      "text/plain": [
       "  airport_icao airport_iata                       airport_name   latitude  \\\n",
       "0         KPVG      NO IATA    Hampton Roads Executive Airport  36.780278   \n",
       "1         SBFE          FEC           Feira de Santana Airport -12.200556   \n",
       "2         SBQV      NO IATA  Pedro Otacílio Figueiredo Airport  14.863611   \n",
       "3         SNGV          GVR   Aeroporto Coronel Altino Machado -18.896800   \n",
       "4         SSPB          PTO                Pato Branco Airport -26.217222   \n",
       "\n",
       "   longitude country_iso        country  \n",
       "0 -76.448889          US  United States  \n",
       "1 -38.906389          BR         Brazil  \n",
       "2 -40.863056          BR         Brazil  \n",
       "3 -41.986100          BR         Brazil  \n",
       "4 -52.694444          BR         Brazil  "
      ]
     },
     "execution_count": 11,
     "metadata": {},
     "output_type": "execute_result"
    }
   ],
   "source": [
    "na_vra_azu_airports.head()"
   ]
  },
  {
   "cell_type": "markdown",
   "metadata": {},
   "source": [
    "Merge `na_vra_azu_airports` to `vra_azu_airports_non_na`. Extract rows where airport_iata != 'NO IATA'"
   ]
  },
  {
   "cell_type": "code",
   "execution_count": 12,
   "metadata": {},
   "outputs": [],
   "source": [
    "vra_azu_airports_non_na = db.sql(\n",
    "    \"\"\"\n",
    "    select *\n",
    "    from vra_azu_airports\n",
    "    where airport_iata != 'NO IATA'\n",
    "    \n",
    "    \"\"\"\n",
    ").df()"
   ]
  },
  {
   "cell_type": "code",
   "execution_count": 13,
   "metadata": {},
   "outputs": [],
   "source": [
    "vra_azu_airports_final = pd.concat([vra_azu_airports_non_na,na_vra_azu_airports], ignore_index=True)"
   ]
  },
  {
   "cell_type": "code",
   "execution_count": 14,
   "metadata": {},
   "outputs": [
    {
     "data": {
      "application/vnd.microsoft.datawrangler.viewer.v0+json": {
       "columns": [
        {
         "name": "index",
         "rawType": "int64",
         "type": "integer"
        },
        {
         "name": "airport_icao",
         "rawType": "object",
         "type": "string"
        },
        {
         "name": "airport_iata",
         "rawType": "object",
         "type": "string"
        },
        {
         "name": "airport_name",
         "rawType": "object",
         "type": "string"
        },
        {
         "name": "latitude",
         "rawType": "float64",
         "type": "float"
        },
        {
         "name": "longitude",
         "rawType": "float64",
         "type": "float"
        },
        {
         "name": "country_iso",
         "rawType": "object",
         "type": "string"
        },
        {
         "name": "country",
         "rawType": "object",
         "type": "string"
        }
       ],
       "conversionMethod": "pd.DataFrame",
       "ref": "d3371c88-039e-4405-a851-cb037eb33761",
       "rows": [
        [
         "0",
         "EBBR",
         "BRU",
         "Brussels Airport",
         "50.9010343",
         "4.478626970832147",
         "BE",
         "Belgium"
        ],
        [
         "1",
         "EHAM",
         "AMS",
         "Amsterdam Airport Schiphol",
         "52.32697895",
         "4.741505200022974",
         "NL",
         "Netherlands"
        ],
        [
         "2",
         "KFLL",
         "FLL",
         "Fort Lauderdale-Hollywood International Airport",
         "26.072017",
         "-80.15099673135214",
         "US",
         "United States"
        ],
        [
         "3",
         "KMCO",
         "MCO",
         "Orlando International Airport",
         "28.412903550000003",
         "-81.30944309752753",
         "US",
         "United States"
        ],
        [
         "4",
         "KORD",
         "ORD",
         "O'Hare International Airport",
         "41.97795725",
         "-87.90917584851792",
         "US",
         "United States"
        ]
       ],
       "shape": {
        "columns": 7,
        "rows": 5
       }
      },
      "text/html": [
       "<div>\n",
       "<style scoped>\n",
       "    .dataframe tbody tr th:only-of-type {\n",
       "        vertical-align: middle;\n",
       "    }\n",
       "\n",
       "    .dataframe tbody tr th {\n",
       "        vertical-align: top;\n",
       "    }\n",
       "\n",
       "    .dataframe thead th {\n",
       "        text-align: right;\n",
       "    }\n",
       "</style>\n",
       "<table border=\"1\" class=\"dataframe\">\n",
       "  <thead>\n",
       "    <tr style=\"text-align: right;\">\n",
       "      <th></th>\n",
       "      <th>airport_icao</th>\n",
       "      <th>airport_iata</th>\n",
       "      <th>airport_name</th>\n",
       "      <th>latitude</th>\n",
       "      <th>longitude</th>\n",
       "      <th>country_iso</th>\n",
       "      <th>country</th>\n",
       "    </tr>\n",
       "  </thead>\n",
       "  <tbody>\n",
       "    <tr>\n",
       "      <th>0</th>\n",
       "      <td>EBBR</td>\n",
       "      <td>BRU</td>\n",
       "      <td>Brussels Airport</td>\n",
       "      <td>50.901034</td>\n",
       "      <td>4.478627</td>\n",
       "      <td>BE</td>\n",
       "      <td>Belgium</td>\n",
       "    </tr>\n",
       "    <tr>\n",
       "      <th>1</th>\n",
       "      <td>EHAM</td>\n",
       "      <td>AMS</td>\n",
       "      <td>Amsterdam Airport Schiphol</td>\n",
       "      <td>52.326979</td>\n",
       "      <td>4.741505</td>\n",
       "      <td>NL</td>\n",
       "      <td>Netherlands</td>\n",
       "    </tr>\n",
       "    <tr>\n",
       "      <th>2</th>\n",
       "      <td>KFLL</td>\n",
       "      <td>FLL</td>\n",
       "      <td>Fort Lauderdale-Hollywood International Airport</td>\n",
       "      <td>26.072017</td>\n",
       "      <td>-80.150997</td>\n",
       "      <td>US</td>\n",
       "      <td>United States</td>\n",
       "    </tr>\n",
       "    <tr>\n",
       "      <th>3</th>\n",
       "      <td>KMCO</td>\n",
       "      <td>MCO</td>\n",
       "      <td>Orlando International Airport</td>\n",
       "      <td>28.412904</td>\n",
       "      <td>-81.309443</td>\n",
       "      <td>US</td>\n",
       "      <td>United States</td>\n",
       "    </tr>\n",
       "    <tr>\n",
       "      <th>4</th>\n",
       "      <td>KORD</td>\n",
       "      <td>ORD</td>\n",
       "      <td>O'Hare International Airport</td>\n",
       "      <td>41.977957</td>\n",
       "      <td>-87.909176</td>\n",
       "      <td>US</td>\n",
       "      <td>United States</td>\n",
       "    </tr>\n",
       "  </tbody>\n",
       "</table>\n",
       "</div>"
      ],
      "text/plain": [
       "  airport_icao airport_iata                                     airport_name  \\\n",
       "0         EBBR          BRU                                 Brussels Airport   \n",
       "1         EHAM          AMS                       Amsterdam Airport Schiphol   \n",
       "2         KFLL          FLL  Fort Lauderdale-Hollywood International Airport   \n",
       "3         KMCO          MCO                    Orlando International Airport   \n",
       "4         KORD          ORD                     O'Hare International Airport   \n",
       "\n",
       "    latitude  longitude country_iso        country  \n",
       "0  50.901034   4.478627          BE        Belgium  \n",
       "1  52.326979   4.741505          NL    Netherlands  \n",
       "2  26.072017 -80.150997          US  United States  \n",
       "3  28.412904 -81.309443          US  United States  \n",
       "4  41.977957 -87.909176          US  United States  "
      ]
     },
     "execution_count": 14,
     "metadata": {},
     "output_type": "execute_result"
    }
   ],
   "source": [
    "vra_azu_airports_final.head()"
   ]
  },
  {
   "cell_type": "code",
   "execution_count": 15,
   "metadata": {},
   "outputs": [],
   "source": [
    "vra_azu_airports_final['latitude'] = vra_azu_airports_final['latitude'].round(6)\n",
    "vra_azu_airports_final['longitude'] = vra_azu_airports_final['longitude'].round(6)\n"
   ]
  },
  {
   "cell_type": "code",
   "execution_count": 16,
   "metadata": {},
   "outputs": [
    {
     "data": {
      "application/vnd.microsoft.datawrangler.viewer.v0+json": {
       "columns": [
        {
         "name": "index",
         "rawType": "int64",
         "type": "integer"
        },
        {
         "name": "airport_icao",
         "rawType": "object",
         "type": "string"
        },
        {
         "name": "airport_iata",
         "rawType": "object",
         "type": "string"
        },
        {
         "name": "airport_name",
         "rawType": "object",
         "type": "string"
        },
        {
         "name": "latitude",
         "rawType": "float64",
         "type": "float"
        },
        {
         "name": "longitude",
         "rawType": "float64",
         "type": "float"
        },
        {
         "name": "country_iso",
         "rawType": "object",
         "type": "string"
        },
        {
         "name": "country",
         "rawType": "object",
         "type": "string"
        }
       ],
       "conversionMethod": "pd.DataFrame",
       "ref": "a975ff59-de3b-4421-9441-02c2fc9ff2e2",
       "rows": [
        [
         "0",
         "EBBR",
         "BRU",
         "Brussels Airport",
         "50.901034",
         "4.478627",
         "BE",
         "Belgium"
        ],
        [
         "1",
         "EHAM",
         "AMS",
         "Amsterdam Airport Schiphol",
         "52.326979",
         "4.741505",
         "NL",
         "Netherlands"
        ],
        [
         "2",
         "KFLL",
         "FLL",
         "Fort Lauderdale-Hollywood International Airport",
         "26.072017",
         "-80.150997",
         "US",
         "United States"
        ],
        [
         "3",
         "KMCO",
         "MCO",
         "Orlando International Airport",
         "28.412904",
         "-81.309443",
         "US",
         "United States"
        ],
        [
         "4",
         "KORD",
         "ORD",
         "O'Hare International Airport",
         "41.977957",
         "-87.909176",
         "US",
         "United States"
        ]
       ],
       "shape": {
        "columns": 7,
        "rows": 5
       }
      },
      "text/html": [
       "<div>\n",
       "<style scoped>\n",
       "    .dataframe tbody tr th:only-of-type {\n",
       "        vertical-align: middle;\n",
       "    }\n",
       "\n",
       "    .dataframe tbody tr th {\n",
       "        vertical-align: top;\n",
       "    }\n",
       "\n",
       "    .dataframe thead th {\n",
       "        text-align: right;\n",
       "    }\n",
       "</style>\n",
       "<table border=\"1\" class=\"dataframe\">\n",
       "  <thead>\n",
       "    <tr style=\"text-align: right;\">\n",
       "      <th></th>\n",
       "      <th>airport_icao</th>\n",
       "      <th>airport_iata</th>\n",
       "      <th>airport_name</th>\n",
       "      <th>latitude</th>\n",
       "      <th>longitude</th>\n",
       "      <th>country_iso</th>\n",
       "      <th>country</th>\n",
       "    </tr>\n",
       "  </thead>\n",
       "  <tbody>\n",
       "    <tr>\n",
       "      <th>0</th>\n",
       "      <td>EBBR</td>\n",
       "      <td>BRU</td>\n",
       "      <td>Brussels Airport</td>\n",
       "      <td>50.901034</td>\n",
       "      <td>4.478627</td>\n",
       "      <td>BE</td>\n",
       "      <td>Belgium</td>\n",
       "    </tr>\n",
       "    <tr>\n",
       "      <th>1</th>\n",
       "      <td>EHAM</td>\n",
       "      <td>AMS</td>\n",
       "      <td>Amsterdam Airport Schiphol</td>\n",
       "      <td>52.326979</td>\n",
       "      <td>4.741505</td>\n",
       "      <td>NL</td>\n",
       "      <td>Netherlands</td>\n",
       "    </tr>\n",
       "    <tr>\n",
       "      <th>2</th>\n",
       "      <td>KFLL</td>\n",
       "      <td>FLL</td>\n",
       "      <td>Fort Lauderdale-Hollywood International Airport</td>\n",
       "      <td>26.072017</td>\n",
       "      <td>-80.150997</td>\n",
       "      <td>US</td>\n",
       "      <td>United States</td>\n",
       "    </tr>\n",
       "    <tr>\n",
       "      <th>3</th>\n",
       "      <td>KMCO</td>\n",
       "      <td>MCO</td>\n",
       "      <td>Orlando International Airport</td>\n",
       "      <td>28.412904</td>\n",
       "      <td>-81.309443</td>\n",
       "      <td>US</td>\n",
       "      <td>United States</td>\n",
       "    </tr>\n",
       "    <tr>\n",
       "      <th>4</th>\n",
       "      <td>KORD</td>\n",
       "      <td>ORD</td>\n",
       "      <td>O'Hare International Airport</td>\n",
       "      <td>41.977957</td>\n",
       "      <td>-87.909176</td>\n",
       "      <td>US</td>\n",
       "      <td>United States</td>\n",
       "    </tr>\n",
       "  </tbody>\n",
       "</table>\n",
       "</div>"
      ],
      "text/plain": [
       "  airport_icao airport_iata                                     airport_name  \\\n",
       "0         EBBR          BRU                                 Brussels Airport   \n",
       "1         EHAM          AMS                       Amsterdam Airport Schiphol   \n",
       "2         KFLL          FLL  Fort Lauderdale-Hollywood International Airport   \n",
       "3         KMCO          MCO                    Orlando International Airport   \n",
       "4         KORD          ORD                     O'Hare International Airport   \n",
       "\n",
       "    latitude  longitude country_iso        country  \n",
       "0  50.901034   4.478627          BE        Belgium  \n",
       "1  52.326979   4.741505          NL    Netherlands  \n",
       "2  26.072017 -80.150997          US  United States  \n",
       "3  28.412904 -81.309443          US  United States  \n",
       "4  41.977957 -87.909176          US  United States  "
      ]
     },
     "execution_count": 16,
     "metadata": {},
     "output_type": "execute_result"
    }
   ],
   "source": [
    "vra_azu_airports_final.head()"
   ]
  },
  {
   "cell_type": "code",
   "execution_count": 70,
   "metadata": {},
   "outputs": [],
   "source": [
    "vra_azu_airports_final.to_csv(r\"C:\\Users\\USER\\Desktop\\anac_reg_flights\\data_dictionary\\vra_azu_airports_final.csv\",index=False)"
   ]
  }
 ],
 "metadata": {
  "kernelspec": {
   "display_name": "anac_reg_flights",
   "language": "python",
   "name": "python3"
  },
  "language_info": {
   "codemirror_mode": {
    "name": "ipython",
    "version": 3
   },
   "file_extension": ".py",
   "mimetype": "text/x-python",
   "name": "python",
   "nbconvert_exporter": "python",
   "pygments_lexer": "ipython3",
   "version": "3.12.7"
  }
 },
 "nbformat": 4,
 "nbformat_minor": 2
}
