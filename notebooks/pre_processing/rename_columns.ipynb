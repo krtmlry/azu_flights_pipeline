{
 "cells": [
  {
   "cell_type": "code",
   "execution_count": 32,
   "metadata": {},
   "outputs": [],
   "source": [
    "import pyarrow as pa\n",
    "import pandas as pd\n",
    "import duckdb as db\n",
    "import pyarrow.parquet as pq\n",
    "import glob\n",
    "import os"
   ]
  },
  {
   "cell_type": "code",
   "execution_count": 9,
   "metadata": {},
   "outputs": [],
   "source": [
    "vra_files = r\"C:\\Users\\USER\\Desktop\\vra_bfd_dataset\\VRA_PARQUET\\*.parquet\""
   ]
  },
  {
   "cell_type": "code",
   "execution_count": 10,
   "metadata": {},
   "outputs": [],
   "source": [
    "files = glob.glob(vra_files)"
   ]
  },
  {
   "cell_type": "code",
   "execution_count": 11,
   "metadata": {},
   "outputs": [
    {
     "data": {
      "text/plain": [
       "['C:\\\\Users\\\\USER\\\\Desktop\\\\vra_bfd_dataset\\\\VRA_PARQUET\\\\VRA_2017.parquet',\n",
       " 'C:\\\\Users\\\\USER\\\\Desktop\\\\vra_bfd_dataset\\\\VRA_PARQUET\\\\VRA_2018.parquet',\n",
       " 'C:\\\\Users\\\\USER\\\\Desktop\\\\vra_bfd_dataset\\\\VRA_PARQUET\\\\VRA_2019.parquet',\n",
       " 'C:\\\\Users\\\\USER\\\\Desktop\\\\vra_bfd_dataset\\\\VRA_PARQUET\\\\VRA_2020.parquet',\n",
       " 'C:\\\\Users\\\\USER\\\\Desktop\\\\vra_bfd_dataset\\\\VRA_PARQUET\\\\VRA_2021.parquet',\n",
       " 'C:\\\\Users\\\\USER\\\\Desktop\\\\vra_bfd_dataset\\\\VRA_PARQUET\\\\VRA_2022.parquet',\n",
       " 'C:\\\\Users\\\\USER\\\\Desktop\\\\vra_bfd_dataset\\\\VRA_PARQUET\\\\VRA_2023.parquet']"
      ]
     },
     "execution_count": 11,
     "metadata": {},
     "output_type": "execute_result"
    }
   ],
   "source": [
    "files"
   ]
  },
  {
   "cell_type": "code",
   "execution_count": 17,
   "metadata": {},
   "outputs": [],
   "source": [
    "new_column_names = [\n",
    "    \"airline_icao\",\n",
    "    \"airline\",\n",
    "    \"flight_number\",\n",
    "    \"di_code\",\n",
    "    \"line_type_code\",\n",
    "    \"aircraft_icao\",\n",
    "    \"passenger_count\",\n",
    "    \"orig_airport_icao\",\n",
    "    \"orig_airport\",\n",
    "    \"scheduled_departure\",\n",
    "    \"actual_departure\",\n",
    "    \"dest_airport_icao\",\n",
    "    \"dest_airport\",\n",
    "    \"scheduled_arrival\",\n",
    "    \"actual_arrival\",\n",
    "    \"flight_status\",\n",
    "    \"justification\",\n",
    "    \"reference\",\n",
    "    \"departure_situation\",\n",
    "    \"arrival_situation\"\n",
    "]"
   ]
  },
  {
   "cell_type": "code",
   "execution_count": 18,
   "metadata": {},
   "outputs": [],
   "source": [
    "output_dest = r\"C:\\Users\\USER\\Desktop\\vra_bfd_dataset\\VRA_RENAMED\""
   ]
  },
  {
   "cell_type": "code",
   "execution_count": 27,
   "metadata": {},
   "outputs": [
    {
     "name": "stdout",
     "output_type": "stream",
     "text": [
      "VRA_2017.parquet saved at: C:\\Users\\USER\\Desktop\\vra_bfd_dataset\\VRA_RENAMED \n",
      "VRA_2018.parquet saved at: C:\\Users\\USER\\Desktop\\vra_bfd_dataset\\VRA_RENAMED \n",
      "VRA_2019.parquet saved at: C:\\Users\\USER\\Desktop\\vra_bfd_dataset\\VRA_RENAMED \n",
      "VRA_2020.parquet saved at: C:\\Users\\USER\\Desktop\\vra_bfd_dataset\\VRA_RENAMED \n",
      "VRA_2021.parquet saved at: C:\\Users\\USER\\Desktop\\vra_bfd_dataset\\VRA_RENAMED \n",
      "VRA_2022.parquet saved at: C:\\Users\\USER\\Desktop\\vra_bfd_dataset\\VRA_RENAMED \n",
      "VRA_2023.parquet saved at: C:\\Users\\USER\\Desktop\\vra_bfd_dataset\\VRA_RENAMED \n"
     ]
    }
   ],
   "source": [
    "for file in files:\n",
    "    file_name = file.split('\\\\')[-1].split('.')[0] + '.parquet'\n",
    "    output_file_name = os.path.join(output_dest,file_name)\n",
    "    table_raw = pq.read_table(file)\n",
    "    #remove extra column\n",
    "    table_final = table_raw.drop(['__index_level_0__'])\n",
    "    pq.write_table(table_final.rename_columns(new_column_names), output_file_name)\n",
    "    print(f\"{file_name} saved at: {output_dest} \")"
   ]
  },
  {
   "cell_type": "code",
   "execution_count": 29,
   "metadata": {},
   "outputs": [],
   "source": [
    "df = pd.read_parquet(r\"C:\\Users\\USER\\Desktop\\vra_bfd_dataset\\VRA_RENAMED\\VRA_2017.parquet\")"
   ]
  }
 ],
 "metadata": {
  "kernelspec": {
   "display_name": "anac_reg_flights",
   "language": "python",
   "name": "python3"
  },
  "language_info": {
   "codemirror_mode": {
    "name": "ipython",
    "version": 3
   },
   "file_extension": ".py",
   "mimetype": "text/x-python",
   "name": "python",
   "nbconvert_exporter": "python",
   "pygments_lexer": "ipython3",
   "version": "3.12.7"
  }
 },
 "nbformat": 4,
 "nbformat_minor": 2
}
