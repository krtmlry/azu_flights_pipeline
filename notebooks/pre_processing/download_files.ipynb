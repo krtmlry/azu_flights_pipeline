{
 "cells": [
  {
   "cell_type": "code",
   "execution_count": 1,
   "metadata": {},
   "outputs": [],
   "source": [
    "import requests\n",
    "import os\n",
    "from bs4 import BeautifulSoup"
   ]
  },
  {
   "cell_type": "markdown",
   "metadata": {},
   "source": [
    "#### Get VRA file download links"
   ]
  },
  {
   "cell_type": "code",
   "execution_count": 2,
   "metadata": {},
   "outputs": [],
   "source": [
    "file_links_vra = []"
   ]
  },
  {
   "cell_type": "code",
   "execution_count": 3,
   "metadata": {},
   "outputs": [],
   "source": [
    "for i in range(2017,2024):\n",
    "    base_link = f\"https://siros.anac.gov.br/siros/registros/diversos/vra/{i}\"\n",
    "    try:\n",
    "        response = requests.get(base_link)\n",
    "        if response.status_code == 200:\n",
    "            res_text = response.text\n",
    "            soup = BeautifulSoup(res_text,'html.parser')\n",
    "            links = soup.find_all('a', href=True)\n",
    "            for link in links:\n",
    "                header = 'https://siros.anac.gov.br'\n",
    "                href = link['href']\n",
    "                if href.endswith(\".csv\"):\n",
    "                    file_links_vra.append(header+href)\n",
    "    except Exception as e:\n",
    "        print(f\"Error occured: {e}\")"
   ]
  },
  {
   "cell_type": "code",
   "execution_count": 4,
   "metadata": {},
   "outputs": [
    {
     "data": {
      "text/plain": [
       "['https://siros.anac.gov.br/siros/registros/diversos/vra/2017/VRA_2017_01.csv',\n",
       " 'https://siros.anac.gov.br/siros/registros/diversos/vra/2017/VRA_2017_02.csv',\n",
       " 'https://siros.anac.gov.br/siros/registros/diversos/vra/2017/VRA_2017_03.csv',\n",
       " 'https://siros.anac.gov.br/siros/registros/diversos/vra/2017/VRA_2017_04.csv',\n",
       " 'https://siros.anac.gov.br/siros/registros/diversos/vra/2017/VRA_2017_05.csv',\n",
       " 'https://siros.anac.gov.br/siros/registros/diversos/vra/2017/VRA_2017_06.csv',\n",
       " 'https://siros.anac.gov.br/siros/registros/diversos/vra/2017/VRA_2017_07.csv',\n",
       " 'https://siros.anac.gov.br/siros/registros/diversos/vra/2017/VRA_2017_08.csv',\n",
       " 'https://siros.anac.gov.br/siros/registros/diversos/vra/2017/VRA_2017_09.csv',\n",
       " 'https://siros.anac.gov.br/siros/registros/diversos/vra/2017/VRA_2017_10.csv',\n",
       " 'https://siros.anac.gov.br/siros/registros/diversos/vra/2017/VRA_2017_11.csv',\n",
       " 'https://siros.anac.gov.br/siros/registros/diversos/vra/2017/VRA_2017_12.csv',\n",
       " 'https://siros.anac.gov.br/siros/registros/diversos/vra/2018/VRA_2018_01.csv',\n",
       " 'https://siros.anac.gov.br/siros/registros/diversos/vra/2018/VRA_2018_02.csv',\n",
       " 'https://siros.anac.gov.br/siros/registros/diversos/vra/2018/VRA_2018_03.csv',\n",
       " 'https://siros.anac.gov.br/siros/registros/diversos/vra/2018/VRA_2018_04.csv',\n",
       " 'https://siros.anac.gov.br/siros/registros/diversos/vra/2018/VRA_2018_05.csv',\n",
       " 'https://siros.anac.gov.br/siros/registros/diversos/vra/2018/VRA_2018_06.csv',\n",
       " 'https://siros.anac.gov.br/siros/registros/diversos/vra/2018/VRA_2018_07.csv',\n",
       " 'https://siros.anac.gov.br/siros/registros/diversos/vra/2018/VRA_2018_08.csv',\n",
       " 'https://siros.anac.gov.br/siros/registros/diversos/vra/2018/VRA_2018_09.csv',\n",
       " 'https://siros.anac.gov.br/siros/registros/diversos/vra/2018/VRA_2018_10.csv',\n",
       " 'https://siros.anac.gov.br/siros/registros/diversos/vra/2018/VRA_2018_11.csv',\n",
       " 'https://siros.anac.gov.br/siros/registros/diversos/vra/2018/VRA_2018_12.csv',\n",
       " 'https://siros.anac.gov.br/siros/registros/diversos/vra/2019/VRA_2019_01.csv',\n",
       " 'https://siros.anac.gov.br/siros/registros/diversos/vra/2019/VRA_2019_02.csv',\n",
       " 'https://siros.anac.gov.br/siros/registros/diversos/vra/2019/VRA_2019_03.csv',\n",
       " 'https://siros.anac.gov.br/siros/registros/diversos/vra/2019/VRA_2019_04.csv',\n",
       " 'https://siros.anac.gov.br/siros/registros/diversos/vra/2019/VRA_2019_05.csv',\n",
       " 'https://siros.anac.gov.br/siros/registros/diversos/vra/2019/VRA_2019_06.csv',\n",
       " 'https://siros.anac.gov.br/siros/registros/diversos/vra/2019/VRA_2019_07.csv',\n",
       " 'https://siros.anac.gov.br/siros/registros/diversos/vra/2019/VRA_2019_08.csv',\n",
       " 'https://siros.anac.gov.br/siros/registros/diversos/vra/2019/VRA_2019_09.csv',\n",
       " 'https://siros.anac.gov.br/siros/registros/diversos/vra/2019/VRA_2019_10.csv',\n",
       " 'https://siros.anac.gov.br/siros/registros/diversos/vra/2019/VRA_2019_11.csv',\n",
       " 'https://siros.anac.gov.br/siros/registros/diversos/vra/2019/VRA_2019_12.csv',\n",
       " 'https://siros.anac.gov.br/siros/registros/diversos/vra/2020/VRA_2020_01.csv',\n",
       " 'https://siros.anac.gov.br/siros/registros/diversos/vra/2020/VRA_2020_02.csv',\n",
       " 'https://siros.anac.gov.br/siros/registros/diversos/vra/2020/VRA_2020_03.csv',\n",
       " 'https://siros.anac.gov.br/siros/registros/diversos/vra/2020/VRA_2020_04.csv',\n",
       " 'https://siros.anac.gov.br/siros/registros/diversos/vra/2020/VRA_2020_05.csv',\n",
       " 'https://siros.anac.gov.br/siros/registros/diversos/vra/2020/VRA_2020_06.csv',\n",
       " 'https://siros.anac.gov.br/siros/registros/diversos/vra/2020/VRA_2020_07.csv',\n",
       " 'https://siros.anac.gov.br/siros/registros/diversos/vra/2020/VRA_2020_08.csv',\n",
       " 'https://siros.anac.gov.br/siros/registros/diversos/vra/2020/VRA_2020_09.csv',\n",
       " 'https://siros.anac.gov.br/siros/registros/diversos/vra/2020/VRA_2020_10.csv',\n",
       " 'https://siros.anac.gov.br/siros/registros/diversos/vra/2020/VRA_2020_11.csv',\n",
       " 'https://siros.anac.gov.br/siros/registros/diversos/vra/2020/VRA_2020_12.csv',\n",
       " 'https://siros.anac.gov.br/siros/registros/diversos/vra/2021/VRA_2021_01.csv',\n",
       " 'https://siros.anac.gov.br/siros/registros/diversos/vra/2021/VRA_2021_02.csv',\n",
       " 'https://siros.anac.gov.br/siros/registros/diversos/vra/2021/VRA_2021_03.csv',\n",
       " 'https://siros.anac.gov.br/siros/registros/diversos/vra/2021/VRA_2021_04.csv',\n",
       " 'https://siros.anac.gov.br/siros/registros/diversos/vra/2021/VRA_2021_05.csv',\n",
       " 'https://siros.anac.gov.br/siros/registros/diversos/vra/2021/VRA_2021_06.csv',\n",
       " 'https://siros.anac.gov.br/siros/registros/diversos/vra/2021/VRA_2021_07.csv',\n",
       " 'https://siros.anac.gov.br/siros/registros/diversos/vra/2021/VRA_2021_08.csv',\n",
       " 'https://siros.anac.gov.br/siros/registros/diversos/vra/2021/VRA_2021_09.csv',\n",
       " 'https://siros.anac.gov.br/siros/registros/diversos/vra/2021/VRA_2021_10.csv',\n",
       " 'https://siros.anac.gov.br/siros/registros/diversos/vra/2021/VRA_2021_11.csv',\n",
       " 'https://siros.anac.gov.br/siros/registros/diversos/vra/2021/VRA_2021_12.csv',\n",
       " 'https://siros.anac.gov.br/siros/registros/diversos/vra/2022/VRA_2022_01.csv',\n",
       " 'https://siros.anac.gov.br/siros/registros/diversos/vra/2022/VRA_2022_02.csv',\n",
       " 'https://siros.anac.gov.br/siros/registros/diversos/vra/2022/VRA_2022_03.csv',\n",
       " 'https://siros.anac.gov.br/siros/registros/diversos/vra/2022/VRA_2022_04.csv',\n",
       " 'https://siros.anac.gov.br/siros/registros/diversos/vra/2022/VRA_2022_05.csv',\n",
       " 'https://siros.anac.gov.br/siros/registros/diversos/vra/2022/VRA_2022_06.csv',\n",
       " 'https://siros.anac.gov.br/siros/registros/diversos/vra/2022/VRA_2022_07.csv',\n",
       " 'https://siros.anac.gov.br/siros/registros/diversos/vra/2022/VRA_2022_08.csv',\n",
       " 'https://siros.anac.gov.br/siros/registros/diversos/vra/2022/VRA_2022_09.csv',\n",
       " 'https://siros.anac.gov.br/siros/registros/diversos/vra/2022/VRA_2022_10.csv',\n",
       " 'https://siros.anac.gov.br/siros/registros/diversos/vra/2022/VRA_2022_11.csv',\n",
       " 'https://siros.anac.gov.br/siros/registros/diversos/vra/2022/VRA_2022_12.csv',\n",
       " 'https://siros.anac.gov.br/siros/registros/diversos/vra/2023/VRA_2023_01.csv',\n",
       " 'https://siros.anac.gov.br/siros/registros/diversos/vra/2023/VRA_2023_02.csv',\n",
       " 'https://siros.anac.gov.br/siros/registros/diversos/vra/2023/VRA_2023_03.csv',\n",
       " 'https://siros.anac.gov.br/siros/registros/diversos/vra/2023/VRA_2023_04.csv',\n",
       " 'https://siros.anac.gov.br/siros/registros/diversos/vra/2023/VRA_2023_05.csv',\n",
       " 'https://siros.anac.gov.br/siros/registros/diversos/vra/2023/VRA_2023_06.csv',\n",
       " 'https://siros.anac.gov.br/siros/registros/diversos/vra/2023/VRA_2023_07.csv',\n",
       " 'https://siros.anac.gov.br/siros/registros/diversos/vra/2023/VRA_2023_08.csv',\n",
       " 'https://siros.anac.gov.br/siros/registros/diversos/vra/2023/VRA_2023_09.csv',\n",
       " 'https://siros.anac.gov.br/siros/registros/diversos/vra/2023/VRA_2023_10.csv',\n",
       " 'https://siros.anac.gov.br/siros/registros/diversos/vra/2023/VRA_2023_11.csv',\n",
       " 'https://siros.anac.gov.br/siros/registros/diversos/vra/2023/VRA_2023_12.csv']"
      ]
     },
     "execution_count": 4,
     "metadata": {},
     "output_type": "execute_result"
    }
   ],
   "source": [
    "file_links_vra"
   ]
  },
  {
   "cell_type": "markdown",
   "metadata": {},
   "source": [
    "#### Create file directory per year"
   ]
  },
  {
   "cell_type": "code",
   "execution_count": 42,
   "metadata": {},
   "outputs": [],
   "source": [
    "dest_path_vra = r\"C:\\Users\\USER\\Desktop\\vra_bfd_dataset\\VRA\"\n",
    "\n",
    "for i in range(2017,2024):\n",
    "    dir_name_vra = os.path.join(dest_path_vra,f\"VRA_{i}\")\n",
    "    os.makedirs(dir_name_vra,exist_ok=True)\n"
   ]
  },
  {
   "cell_type": "markdown",
   "metadata": {},
   "source": [
    "#### Download VRA dataset"
   ]
  },
  {
   "cell_type": "code",
   "execution_count": 5,
   "metadata": {},
   "outputs": [
    {
     "name": "stdout",
     "output_type": "stream",
     "text": [
      "File already exists at: C:\\Users\\USER\\Desktop\\vra_bfd_dataset\\VRA\\VRA_2017\\VRA_2017_01.csv\n",
      "File already exists at: C:\\Users\\USER\\Desktop\\vra_bfd_dataset\\VRA\\VRA_2017\\VRA_2017_02.csv\n",
      "File already exists at: C:\\Users\\USER\\Desktop\\vra_bfd_dataset\\VRA\\VRA_2017\\VRA_2017_03.csv\n",
      "File already exists at: C:\\Users\\USER\\Desktop\\vra_bfd_dataset\\VRA\\VRA_2017\\VRA_2017_04.csv\n",
      "File already exists at: C:\\Users\\USER\\Desktop\\vra_bfd_dataset\\VRA\\VRA_2017\\VRA_2017_05.csv\n",
      "File already exists at: C:\\Users\\USER\\Desktop\\vra_bfd_dataset\\VRA\\VRA_2017\\VRA_2017_06.csv\n",
      "File already exists at: C:\\Users\\USER\\Desktop\\vra_bfd_dataset\\VRA\\VRA_2017\\VRA_2017_07.csv\n",
      "File already exists at: C:\\Users\\USER\\Desktop\\vra_bfd_dataset\\VRA\\VRA_2017\\VRA_2017_08.csv\n",
      "File already exists at: C:\\Users\\USER\\Desktop\\vra_bfd_dataset\\VRA\\VRA_2017\\VRA_2017_09.csv\n",
      "File saved at C:\\Users\\USER\\Desktop\\vra_bfd_dataset\\VRA\\VRA_2017\\VRA_2017_10.csv\n",
      "File saved at C:\\Users\\USER\\Desktop\\vra_bfd_dataset\\VRA\\VRA_2017\\VRA_2017_11.csv\n",
      "File saved at C:\\Users\\USER\\Desktop\\vra_bfd_dataset\\VRA\\VRA_2017\\VRA_2017_12.csv\n",
      "File saved at C:\\Users\\USER\\Desktop\\vra_bfd_dataset\\VRA\\VRA_2018\\VRA_2018_01.csv\n",
      "File saved at C:\\Users\\USER\\Desktop\\vra_bfd_dataset\\VRA\\VRA_2018\\VRA_2018_02.csv\n",
      "File saved at C:\\Users\\USER\\Desktop\\vra_bfd_dataset\\VRA\\VRA_2018\\VRA_2018_03.csv\n",
      "File saved at C:\\Users\\USER\\Desktop\\vra_bfd_dataset\\VRA\\VRA_2018\\VRA_2018_04.csv\n",
      "File saved at C:\\Users\\USER\\Desktop\\vra_bfd_dataset\\VRA\\VRA_2018\\VRA_2018_05.csv\n",
      "File saved at C:\\Users\\USER\\Desktop\\vra_bfd_dataset\\VRA\\VRA_2018\\VRA_2018_06.csv\n",
      "File saved at C:\\Users\\USER\\Desktop\\vra_bfd_dataset\\VRA\\VRA_2018\\VRA_2018_07.csv\n",
      "File saved at C:\\Users\\USER\\Desktop\\vra_bfd_dataset\\VRA\\VRA_2018\\VRA_2018_08.csv\n",
      "File saved at C:\\Users\\USER\\Desktop\\vra_bfd_dataset\\VRA\\VRA_2018\\VRA_2018_09.csv\n",
      "File saved at C:\\Users\\USER\\Desktop\\vra_bfd_dataset\\VRA\\VRA_2018\\VRA_2018_10.csv\n",
      "File saved at C:\\Users\\USER\\Desktop\\vra_bfd_dataset\\VRA\\VRA_2018\\VRA_2018_11.csv\n",
      "File saved at C:\\Users\\USER\\Desktop\\vra_bfd_dataset\\VRA\\VRA_2018\\VRA_2018_12.csv\n",
      "File saved at C:\\Users\\USER\\Desktop\\vra_bfd_dataset\\VRA\\VRA_2019\\VRA_2019_01.csv\n",
      "File saved at C:\\Users\\USER\\Desktop\\vra_bfd_dataset\\VRA\\VRA_2019\\VRA_2019_02.csv\n",
      "File saved at C:\\Users\\USER\\Desktop\\vra_bfd_dataset\\VRA\\VRA_2019\\VRA_2019_03.csv\n",
      "File saved at C:\\Users\\USER\\Desktop\\vra_bfd_dataset\\VRA\\VRA_2019\\VRA_2019_04.csv\n",
      "File saved at C:\\Users\\USER\\Desktop\\vra_bfd_dataset\\VRA\\VRA_2019\\VRA_2019_05.csv\n",
      "File saved at C:\\Users\\USER\\Desktop\\vra_bfd_dataset\\VRA\\VRA_2019\\VRA_2019_06.csv\n",
      "File saved at C:\\Users\\USER\\Desktop\\vra_bfd_dataset\\VRA\\VRA_2019\\VRA_2019_07.csv\n",
      "File saved at C:\\Users\\USER\\Desktop\\vra_bfd_dataset\\VRA\\VRA_2019\\VRA_2019_08.csv\n",
      "File saved at C:\\Users\\USER\\Desktop\\vra_bfd_dataset\\VRA\\VRA_2019\\VRA_2019_09.csv\n",
      "File saved at C:\\Users\\USER\\Desktop\\vra_bfd_dataset\\VRA\\VRA_2019\\VRA_2019_10.csv\n",
      "File saved at C:\\Users\\USER\\Desktop\\vra_bfd_dataset\\VRA\\VRA_2019\\VRA_2019_11.csv\n",
      "File saved at C:\\Users\\USER\\Desktop\\vra_bfd_dataset\\VRA\\VRA_2019\\VRA_2019_12.csv\n",
      "File saved at C:\\Users\\USER\\Desktop\\vra_bfd_dataset\\VRA\\VRA_2020\\VRA_2020_01.csv\n",
      "File saved at C:\\Users\\USER\\Desktop\\vra_bfd_dataset\\VRA\\VRA_2020\\VRA_2020_02.csv\n",
      "File saved at C:\\Users\\USER\\Desktop\\vra_bfd_dataset\\VRA\\VRA_2020\\VRA_2020_03.csv\n",
      "File saved at C:\\Users\\USER\\Desktop\\vra_bfd_dataset\\VRA\\VRA_2020\\VRA_2020_04.csv\n",
      "File saved at C:\\Users\\USER\\Desktop\\vra_bfd_dataset\\VRA\\VRA_2020\\VRA_2020_05.csv\n",
      "File saved at C:\\Users\\USER\\Desktop\\vra_bfd_dataset\\VRA\\VRA_2020\\VRA_2020_06.csv\n",
      "File saved at C:\\Users\\USER\\Desktop\\vra_bfd_dataset\\VRA\\VRA_2020\\VRA_2020_07.csv\n",
      "File saved at C:\\Users\\USER\\Desktop\\vra_bfd_dataset\\VRA\\VRA_2020\\VRA_2020_08.csv\n",
      "File saved at C:\\Users\\USER\\Desktop\\vra_bfd_dataset\\VRA\\VRA_2020\\VRA_2020_09.csv\n",
      "File saved at C:\\Users\\USER\\Desktop\\vra_bfd_dataset\\VRA\\VRA_2020\\VRA_2020_10.csv\n",
      "File saved at C:\\Users\\USER\\Desktop\\vra_bfd_dataset\\VRA\\VRA_2020\\VRA_2020_11.csv\n",
      "File saved at C:\\Users\\USER\\Desktop\\vra_bfd_dataset\\VRA\\VRA_2020\\VRA_2020_12.csv\n",
      "File saved at C:\\Users\\USER\\Desktop\\vra_bfd_dataset\\VRA\\VRA_2021\\VRA_2021_01.csv\n",
      "File saved at C:\\Users\\USER\\Desktop\\vra_bfd_dataset\\VRA\\VRA_2021\\VRA_2021_02.csv\n",
      "File saved at C:\\Users\\USER\\Desktop\\vra_bfd_dataset\\VRA\\VRA_2021\\VRA_2021_03.csv\n",
      "File saved at C:\\Users\\USER\\Desktop\\vra_bfd_dataset\\VRA\\VRA_2021\\VRA_2021_04.csv\n",
      "File saved at C:\\Users\\USER\\Desktop\\vra_bfd_dataset\\VRA\\VRA_2021\\VRA_2021_05.csv\n",
      "File saved at C:\\Users\\USER\\Desktop\\vra_bfd_dataset\\VRA\\VRA_2021\\VRA_2021_06.csv\n",
      "File saved at C:\\Users\\USER\\Desktop\\vra_bfd_dataset\\VRA\\VRA_2021\\VRA_2021_07.csv\n",
      "File saved at C:\\Users\\USER\\Desktop\\vra_bfd_dataset\\VRA\\VRA_2021\\VRA_2021_08.csv\n",
      "File saved at C:\\Users\\USER\\Desktop\\vra_bfd_dataset\\VRA\\VRA_2021\\VRA_2021_09.csv\n",
      "File saved at C:\\Users\\USER\\Desktop\\vra_bfd_dataset\\VRA\\VRA_2021\\VRA_2021_10.csv\n",
      "File saved at C:\\Users\\USER\\Desktop\\vra_bfd_dataset\\VRA\\VRA_2021\\VRA_2021_11.csv\n",
      "File saved at C:\\Users\\USER\\Desktop\\vra_bfd_dataset\\VRA\\VRA_2021\\VRA_2021_12.csv\n",
      "File saved at C:\\Users\\USER\\Desktop\\vra_bfd_dataset\\VRA\\VRA_2022\\VRA_2022_01.csv\n",
      "File saved at C:\\Users\\USER\\Desktop\\vra_bfd_dataset\\VRA\\VRA_2022\\VRA_2022_02.csv\n",
      "File saved at C:\\Users\\USER\\Desktop\\vra_bfd_dataset\\VRA\\VRA_2022\\VRA_2022_03.csv\n",
      "File saved at C:\\Users\\USER\\Desktop\\vra_bfd_dataset\\VRA\\VRA_2022\\VRA_2022_04.csv\n",
      "File saved at C:\\Users\\USER\\Desktop\\vra_bfd_dataset\\VRA\\VRA_2022\\VRA_2022_05.csv\n",
      "File saved at C:\\Users\\USER\\Desktop\\vra_bfd_dataset\\VRA\\VRA_2022\\VRA_2022_06.csv\n",
      "File saved at C:\\Users\\USER\\Desktop\\vra_bfd_dataset\\VRA\\VRA_2022\\VRA_2022_07.csv\n",
      "File saved at C:\\Users\\USER\\Desktop\\vra_bfd_dataset\\VRA\\VRA_2022\\VRA_2022_08.csv\n",
      "File saved at C:\\Users\\USER\\Desktop\\vra_bfd_dataset\\VRA\\VRA_2022\\VRA_2022_09.csv\n",
      "File saved at C:\\Users\\USER\\Desktop\\vra_bfd_dataset\\VRA\\VRA_2022\\VRA_2022_10.csv\n",
      "File saved at C:\\Users\\USER\\Desktop\\vra_bfd_dataset\\VRA\\VRA_2022\\VRA_2022_11.csv\n",
      "File saved at C:\\Users\\USER\\Desktop\\vra_bfd_dataset\\VRA\\VRA_2022\\VRA_2022_12.csv\n",
      "File saved at C:\\Users\\USER\\Desktop\\vra_bfd_dataset\\VRA\\VRA_2023\\VRA_2023_01.csv\n",
      "File saved at C:\\Users\\USER\\Desktop\\vra_bfd_dataset\\VRA\\VRA_2023\\VRA_2023_02.csv\n",
      "File saved at C:\\Users\\USER\\Desktop\\vra_bfd_dataset\\VRA\\VRA_2023\\VRA_2023_03.csv\n",
      "File saved at C:\\Users\\USER\\Desktop\\vra_bfd_dataset\\VRA\\VRA_2023\\VRA_2023_04.csv\n",
      "File saved at C:\\Users\\USER\\Desktop\\vra_bfd_dataset\\VRA\\VRA_2023\\VRA_2023_05.csv\n",
      "File saved at C:\\Users\\USER\\Desktop\\vra_bfd_dataset\\VRA\\VRA_2023\\VRA_2023_06.csv\n",
      "File saved at C:\\Users\\USER\\Desktop\\vra_bfd_dataset\\VRA\\VRA_2023\\VRA_2023_07.csv\n",
      "File saved at C:\\Users\\USER\\Desktop\\vra_bfd_dataset\\VRA\\VRA_2023\\VRA_2023_08.csv\n",
      "File saved at C:\\Users\\USER\\Desktop\\vra_bfd_dataset\\VRA\\VRA_2023\\VRA_2023_09.csv\n",
      "File saved at C:\\Users\\USER\\Desktop\\vra_bfd_dataset\\VRA\\VRA_2023\\VRA_2023_10.csv\n",
      "File saved at C:\\Users\\USER\\Desktop\\vra_bfd_dataset\\VRA\\VRA_2023\\VRA_2023_11.csv\n",
      "File saved at C:\\Users\\USER\\Desktop\\vra_bfd_dataset\\VRA\\VRA_2023\\VRA_2023_12.csv\n"
     ]
    }
   ],
   "source": [
    "vra_dest = r\"C:\\Users\\USER\\Desktop\\vra_bfd_dataset\\VRA\"\n",
    "for link in file_links_vra:\n",
    "    file_name = link.split('/')[-1]\n",
    "    year = file_name.split('_')[1]\n",
    "    folder = os.path.join(vra_dest,f\"VRA_{year}\")\n",
    "    file_path = os.path.join(folder,file_name)\n",
    "    chunk_size = 5 * 1024 * 1024\n",
    "    \n",
    "    if os.path.exists(file_path):\n",
    "        print(f\"File already exists at: {file_path}\")\n",
    "    else:\n",
    "        try:\n",
    "            response = requests.get(link,stream=True)\n",
    "            if response.status_code == 200:\n",
    "                with open(file_path,'wb') as file:\n",
    "                    for chunk in response.iter_content(chunk_size):\n",
    "                        file.write(chunk)\n",
    "                print(f\"File saved at {file_path}\")\n",
    "        except Exception as e:\n",
    "                print(f\"Error occured: {e}\")"
   ]
  },
  {
   "cell_type": "markdown",
   "metadata": {},
   "source": [
    "#### Save links to txt file for future use"
   ]
  },
  {
   "cell_type": "code",
   "execution_count": 37,
   "metadata": {},
   "outputs": [],
   "source": [
    "with open(\"C:\\\\Users\\\\USER\\\\Desktop\\\\anac_reg_flights\\\\misc_data\\\\vra_links.txt\",\"w\") as vra_links:\n",
    "    for link in file_links_vra:\n",
    "        vra_links.write(link+'\\n')"
   ]
  }
 ],
 "metadata": {
  "kernelspec": {
   "display_name": "anac_reg_flights",
   "language": "python",
   "name": "python3"
  },
  "language_info": {
   "codemirror_mode": {
    "name": "ipython",
    "version": 3
   },
   "file_extension": ".py",
   "mimetype": "text/x-python",
   "name": "python",
   "nbconvert_exporter": "python",
   "pygments_lexer": "ipython3",
   "version": "3.12.7"
  }
 },
 "nbformat": 4,
 "nbformat_minor": 2
}
