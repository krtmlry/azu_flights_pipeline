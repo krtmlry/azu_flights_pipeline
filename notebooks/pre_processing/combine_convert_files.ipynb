{
 "cells": [
  {
   "cell_type": "code",
   "execution_count": 1,
   "metadata": {},
   "outputs": [],
   "source": [
    "import pandas as pd\n",
    "import glob\n",
    "import os"
   ]
  },
  {
   "cell_type": "code",
   "execution_count": 2,
   "metadata": {},
   "outputs": [],
   "source": [
    "base_path = r\"C:\\Users\\USER\\Desktop\\vra_bfd_dataset\\VRA\"\n",
    "dest_base_path = r\"C:\\Users\\USER\\Desktop\\vra_bfd_dataset\\VRA_PARQUET\"\n",
    "os.makedirs(dest_base_path, exist_ok=True)"
   ]
  },
  {
   "cell_type": "markdown",
   "metadata": {},
   "source": [
    "Combine csv datasets into one parquet file"
   ]
  },
  {
   "cell_type": "code",
   "execution_count": 3,
   "metadata": {},
   "outputs": [
    {
     "name": "stdout",
     "output_type": "stream",
     "text": [
      "Parquet file for 2017 already exists. Skipping...\n",
      "Parquet file for 2018 already exists. Skipping...\n",
      "Parquet file for 2019 already exists. Skipping...\n",
      "Parquet file for 2020 already exists. Skipping...\n",
      "Parquet file for 2021 already exists. Skipping...\n",
      "Parquet file for 2022 already exists. Skipping...\n",
      "Parquet file for 2023 already exists. Skipping...\n"
     ]
    }
   ],
   "source": [
    "for i in range(2017, 2024):\n",
    "    csv_files = glob.glob(os.path.join(base_path, f'VRA_{i}', '*.csv'))\n",
    "    file_name = f'VRA_{i}.parquet'\n",
    "    parquet_path = os.path.join(dest_base_path, file_name)\n",
    "\n",
    "    if os.path.exists(parquet_path):\n",
    "        print(f\"Parquet file for {i} already exists. Skipping...\")\n",
    "        continue\n",
    "\n",
    "    data_list = []\n",
    "    for file in csv_files:\n",
    "        data = pd.read_csv(file, sep=';', dtype=str)\n",
    "        data_list.append(data)\n",
    "    \n",
    "    df = pd.concat(data_list)\n",
    "    df.to_parquet(parquet_path, index=None)\n",
    "    print(f\"Saved {parquet_path}\")"
   ]
  },
  {
   "cell_type": "markdown",
   "metadata": {},
   "source": [
    "Combine csv files"
   ]
  },
  {
   "cell_type": "code",
   "execution_count": 2,
   "metadata": {},
   "outputs": [],
   "source": [
    "csv_base_path = r\"C:\\Users\\USER\\Desktop\\vra_bfd_dataset\\VRA\"\n",
    "csv_dest_base_path = r\"C:\\Users\\USER\\Desktop\\vra_bfd_dataset\\VRA_CSV\"\n",
    "os.makedirs(csv_dest_base_path, exist_ok=True)"
   ]
  },
  {
   "cell_type": "code",
   "execution_count": 3,
   "metadata": {},
   "outputs": [
    {
     "name": "stdout",
     "output_type": "stream",
     "text": [
      "File saved at: C:\\Users\\USER\\Desktop\\vra_bfd_dataset\\VRA_CSV\\VRA_2017.csv\n",
      "File saved at: C:\\Users\\USER\\Desktop\\vra_bfd_dataset\\VRA_CSV\\VRA_2018.csv\n",
      "File saved at: C:\\Users\\USER\\Desktop\\vra_bfd_dataset\\VRA_CSV\\VRA_2019.csv\n",
      "File saved at: C:\\Users\\USER\\Desktop\\vra_bfd_dataset\\VRA_CSV\\VRA_2020.csv\n",
      "File saved at: C:\\Users\\USER\\Desktop\\vra_bfd_dataset\\VRA_CSV\\VRA_2021.csv\n",
      "File saved at: C:\\Users\\USER\\Desktop\\vra_bfd_dataset\\VRA_CSV\\VRA_2022.csv\n",
      "File saved at: C:\\Users\\USER\\Desktop\\vra_bfd_dataset\\VRA_CSV\\VRA_2023.csv\n"
     ]
    }
   ],
   "source": [
    "for i in range(2017, 2024):\n",
    "    csv_files = glob.glob(os.path.join(csv_base_path, f'VRA_{i}', '*.csv'))\n",
    "    file_name = f'VRA_{i}.csv'\n",
    "    csv_path = os.path.join(csv_dest_base_path, file_name)\n",
    "\n",
    "    if os.path.exists(csv_path):\n",
    "        print(f\"CSV file for {i} already exists. Skipping...\")\n",
    "        continue\n",
    "\n",
    "    data_list = []\n",
    "    for file in csv_files:\n",
    "        data = pd.read_csv(file, sep=';', dtype=str)\n",
    "        data_list.append(data)\n",
    "    \n",
    "    df = pd.concat(data_list)\n",
    "    df.to_csv(csv_path, index=None)\n",
    "    print(f\"File saved at: {csv_path}\")"
   ]
  },
  {
   "cell_type": "code",
   "execution_count": null,
   "metadata": {},
   "outputs": [],
   "source": []
  },
  {
   "cell_type": "code",
   "execution_count": null,
   "metadata": {},
   "outputs": [],
   "source": []
  }
 ],
 "metadata": {
  "kernelspec": {
   "display_name": "anac_reg_flights",
   "language": "python",
   "name": "python3"
  },
  "language_info": {
   "codemirror_mode": {
    "name": "ipython",
    "version": 3
   },
   "file_extension": ".py",
   "mimetype": "text/x-python",
   "name": "python",
   "nbconvert_exporter": "python",
   "pygments_lexer": "ipython3",
   "version": "3.12.7"
  }
 },
 "nbformat": 4,
 "nbformat_minor": 2
}
